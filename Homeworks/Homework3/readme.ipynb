{
 "cells": [
  {
   "cell_type": "markdown",
   "metadata": {},
   "source": [
    "## PI Challenge\n",
    "\n",
    "The following code  solves the approximation pi challenge, it's code in c++\n",
    "```c++\n",
    "#include <iostream>\n",
    "#include <random>\n",
    "#include <cmath>\n",
    "#include <omp.h>\n",
    "\n",
    "using namespace std;\n",
    "\n",
    "int main(int argc, char ** argvs) {\n",
    "  random_device rd;\n",
    "  mt19937 gen(rd());\n",
    "  uniform_real_distribution<double> real_dist(0.0, 1.0);\n",
    "  if (argc != 2) {\n",
    "    cout << \"Use: executable #of_experiments\" << endl;\n",
    "    return 0;\n",
    "  }\n",
    "\n",
    "  int tries = atoi(argvs[1]), success = 0;\n",
    "  int i = 0;\n",
    "  double start_t = omp_get_wtime();\n",
    "  #pragma omp parallel for private(i) schedule(dynamic) reduction(+: success)\n",
    "  for ( i = 0; i < tries; i++ ) {\n",
    "    double x = real_dist(gen);\n",
    "    double y = real_dist(gen);\n",
    "    success += x * x + y * y < 1.0 ? 1 : 0;\n",
    "  }\n",
    "  double end_t = omp_get_wtime();\n",
    "  cout << \"{\\n\" << \"\\\"data\\\": \" << tries << \",\\n\";\n",
    "  cout << \"\\\"time\\\": \" << end_t - start_t << \",\\n\";\n",
    "  cout << \"\\\"approximation\\\" :\" << (4.0 * success) / tries << \"\\n},\\n\";\n",
    "\n",
    "  return 0;\n",
    "}\n",
    "```"
   ]
  },
  {
   "cell_type": "code",
   "execution_count": null,
   "metadata": {},
   "outputs": [],
   "source": []
  },
  {
   "cell_type": "code",
   "execution_count": 1,
   "metadata": {},
   "outputs": [],
   "source": [
    "omp = [\n",
    "{\n",
    "\"data\": 1000000,\n",
    "\"time\": 0.155364,\n",
    "\"approximation\" :3.13824\n",
    "},\n",
    "{\n",
    "\"data\": 2000000,\n",
    "\"time\": 0.297801,\n",
    "\"approximation\" :3.14287\n",
    "},\n",
    "{\n",
    "\"data\": 3000000,\n",
    "\"time\": 0.463245,\n",
    "\"approximation\" :3.14243\n",
    "},\n",
    "{\n",
    "\"data\": 4000000,\n",
    "\"time\": 0.609571,\n",
    "\"approximation\" :3.14068\n",
    "},\n",
    "{\n",
    "\"data\": 5000000,\n",
    "\"time\": 0.755204,\n",
    "\"approximation\" :3.14369\n",
    "},\n",
    "{\n",
    "\"data\": 6000000,\n",
    "\"time\": 0.918256,\n",
    "\"approximation\" :3.14024\n",
    "},\n",
    "{\n",
    "\"data\": 7000000,\n",
    "\"time\": 1.07069,\n",
    "\"approximation\" :3.14136\n",
    "},\n",
    "{\n",
    "\"data\": 8000000,\n",
    "\"time\": 1.22666,\n",
    "\"approximation\" :3.14076\n",
    "},\n",
    "{\n",
    "\"data\": 9000000,\n",
    "\"time\": 1.38776,\n",
    "\"approximation\" :3.14099\n",
    "},\n",
    "{\n",
    "\"data\": 10000000,\n",
    "\"time\": 1.52483,\n",
    "\"approximation\" :3.14197\n",
    "},\n",
    "{\n",
    "\"data\": 11000000,\n",
    "\"time\": 1.68586,\n",
    "\"approximation\" :3.14127\n",
    "},\n",
    "{\n",
    "\"data\": 12000000,\n",
    "\"time\": 1.82796,\n",
    "\"approximation\" :3.14135\n",
    "},\n",
    "{\n",
    "\"data\": 13000000,\n",
    "\"time\": 1.97438,\n",
    "\"approximation\" :3.14146\n",
    "},\n",
    "{\n",
    "\"data\": 14000000,\n",
    "\"time\": 2.1662,\n",
    "\"approximation\" :3.13987\n",
    "},\n",
    "{\n",
    "\"data\": 15000000,\n",
    "\"time\": 2.28364,\n",
    "\"approximation\" :3.14104\n",
    "},\n",
    "{\n",
    "\"data\": 16000000,\n",
    "\"time\": 2.46319,\n",
    "\"approximation\" :3.14055\n",
    "},\n",
    "{\n",
    "\"data\": 17000000,\n",
    "\"time\": 2.57592,\n",
    "\"approximation\" :3.14224\n",
    "},\n",
    "{\n",
    "\"data\": 18000000,\n",
    "\"time\": 2.74988,\n",
    "\"approximation\" :3.14092\n",
    "},\n",
    "{\n",
    "\"data\": 19000000,\n",
    "\"time\": 2.8616,\n",
    "\"approximation\" :3.14065\n",
    "},\n",
    "{\n",
    "\"data\": 20000000,\n",
    "\"time\": 3.03484,\n",
    "\"approximation\" :3.14153\n",
    "},\n",
    "]\n"
   ]
  },
  {
   "cell_type": "code",
   "execution_count": 2,
   "metadata": {},
   "outputs": [],
   "source": [
    "seq = [\n",
    "{\n",
    "\"data\": 1000000,\n",
    "\"time\": 0.222782,\n",
    "\"approximation\" :3.13868\n",
    "},\n",
    "{\n",
    "\"data\": 2000000,\n",
    "\"time\": 0.450488,\n",
    "\"approximation\" :3.14256\n",
    "},\n",
    "{\n",
    "\"data\": 3000000,\n",
    "\"time\": 0.680499,\n",
    "\"approximation\" :3.14286\n",
    "},\n",
    "{\n",
    "\"data\": 4000000,\n",
    "\"time\": 0.890723,\n",
    "\"approximation\" :3.14228\n",
    "},\n",
    "{\n",
    "\"data\": 5000000,\n",
    "\"time\": 1.11514,\n",
    "\"approximation\" :3.1429\n",
    "},\n",
    "{\n",
    "\"data\": 6000000,\n",
    "\"time\": 1.3362,\n",
    "\"approximation\" :3.14124\n",
    "},\n",
    "{\n",
    "\"data\": 7000000,\n",
    "\"time\": 1.5964,\n",
    "\"approximation\" :3.14067\n",
    "},\n",
    "{\n",
    "\"data\": 8000000,\n",
    "\"time\": 1.81228,\n",
    "\"approximation\" :3.14087\n",
    "},\n",
    "{\n",
    "\"data\": 9000000,\n",
    "\"time\": 2.01989,\n",
    "\"approximation\" :3.1406\n",
    "},\n",
    "{\n",
    "\"data\": 10000000,\n",
    "\"time\": 2.23537,\n",
    "\"approximation\" :3.14145\n",
    "},\n",
    "{\n",
    "\"data\": 11000000,\n",
    "\"time\": 2.46632,\n",
    "\"approximation\" :3.14184\n",
    "},\n",
    "{\n",
    "\"data\": 12000000,\n",
    "\"time\": 2.71028,\n",
    "\"approximation\" :3.14179\n",
    "},\n",
    "{\n",
    "\"data\": 13000000,\n",
    "\"time\": 2.91366,\n",
    "\"approximation\" :3.14243\n",
    "},\n",
    "{\n",
    "\"data\": 14000000,\n",
    "\"time\": 3.14532,\n",
    "\"approximation\" :3.14141\n",
    "},\n",
    "{\n",
    "\"data\": 15000000,\n",
    "\"time\": 3.3726,\n",
    "\"approximation\" :3.14192\n",
    "},\n",
    "{\n",
    "\"data\": 16000000,\n",
    "\"time\": 3.59722,\n",
    "\"approximation\" :3.14213\n",
    "},\n",
    "{\n",
    "\"data\": 17000000,\n",
    "\"time\": 3.79875,\n",
    "\"approximation\" :3.14094\n",
    "},\n",
    "{\n",
    "\"data\": 18000000,\n",
    "\"time\": 4.03781,\n",
    "\"approximation\" :3.14132\n",
    "},\n",
    "{\n",
    "\"data\": 19000000,\n",
    "\"time\": 4.24439,\n",
    "\"approximation\" :3.14179\n",
    "},\n",
    "{\n",
    "\"data\": 20000000,\n",
    "\"time\": 4.48177,\n",
    "\"approximation\" :3.14115\n",
    "},\n",
    "]\n"
   ]
  },
  {
   "cell_type": "code",
   "execution_count": 5,
   "metadata": {},
   "outputs": [],
   "source": [
    "tries  = [i[\"data\"] for i in seq]"
   ]
  },
  {
   "cell_type": "code",
   "execution_count": 7,
   "metadata": {},
   "outputs": [
    {
     "name": "stdout",
     "output_type": "stream",
     "text": [
      "[0.222782, 0.450488, 0.680499, 0.890723, 1.11514, 1.3362, 1.5964, 1.81228, 2.01989, 2.23537, 2.46632, 2.71028, 2.91366, 3.14532, 3.3726, 3.59722, 3.79875, 4.03781, 4.24439, 4.48177]\n",
      "[0.155364, 0.297801, 0.463245, 0.609571, 0.755204, 0.918256, 1.07069, 1.22666, 1.38776, 1.52483, 1.68586, 1.82796, 1.97438, 2.1662, 2.28364, 2.46319, 2.57592, 2.74988, 2.8616, 3.03484]\n"
     ]
    }
   ],
   "source": [
    "seq_time = [i[\"time\"] for i in seq]\n",
    "omp_time = [i[\"time\"] for i in omp]\n",
    "print(seq_time)\n",
    "print(omp_time)"
   ]
  },
  {
   "cell_type": "code",
   "execution_count": 8,
   "metadata": {},
   "outputs": [],
   "source": [
    "import matplotlib.pyplot as plt\n",
    "%matplotlib inline"
   ]
  },
  {
   "cell_type": "code",
   "execution_count": 9,
   "metadata": {},
   "outputs": [
    {
     "data": {
      "image/png": "[encoded data removed]",
      "text/plain": [
       "<Figure size 432x288 with 1 Axes>"
      ]
     },
     "metadata": {},
     "output_type": "display_data"
    }
   ],
   "source": [
    "plt.plot(tries,seq_time, 'g',label='seq_time')\n",
    "plt.plot(tries,omp_time, 'r',label='omp_time')\n",
    "plt.xlabel('number of tries [n]')\n",
    "plt.ylabel('time[s]')\n",
    "plt.legend(loc='upper left')\n",
    "plt.title(\"Sequential vs Parallel Time, PI Approximation using Montecarlo \")\n",
    "plt.show()"
   ]
  },
  {
   "cell_type": "markdown",
   "metadata": {},
   "source": [
    "## Speedup"
   ]
  },
  {
   "cell_type": "code",
   "execution_count": 14,
   "metadata": {},
   "outputs": [
    {
     "name": "stdout",
     "output_type": "stream",
     "text": [
      "[1.4339357895007854, 1.5127148666391317, 1.468982935595635, 1.4612292907635043, 1.4766076450866257, 1.4551497621578298, 1.4910011301123576, 1.4774102033163221, 1.4555038335158816, 1.465979814143216, 1.4629447285065191, 1.4826801461738768, 1.4757341545193934, 1.451998892069061, 1.4768527438650574, 1.460390794051616, 1.4747158296841518, 1.4683586192852052, 1.483222672630696, 1.4767730753515835]\n"
     ]
    },
    {
     "data": {
      "image/png": "[encoded data removed]",
      "text/plain": [
       "<Figure size 432x288 with 1 Axes>"
      ]
     },
     "metadata": {},
     "output_type": "display_data"
    }
   ],
   "source": [
    "speedup = [ (seq_time[i]/omp_time[i]) for i in range(len(omp_time)) ]\n",
    "print(speedup)\n",
    "plt.plot(tries,speedup, 'r-',label='secuencial/paralelo')\n",
    "plt.xlabel('tries size [n]')\n",
    "plt.legend(loc='upper left')\n",
    "plt.ylabel('time[s]')\n",
    "plt.title(\"Speedup Time, PI Approximation using Montecarlo\")\n",
    "plt.show()"
   ]
  },
  {
   "cell_type": "code",
   "execution_count": null,
   "metadata": {},
   "outputs": [],
   "source": []
  },
  {
   "cell_type": "code",
   "execution_count": null,
   "metadata": {},
   "outputs": [],
   "source": [
    "# Referencias "
   ]
  }
 ],
 "metadata": {
  "kernelspec": {
   "display_name": "Python 3",
   "language": "python",
   "name": "python3"
  },
  "language_info": {
   "codemirror_mode": {
    "name": "ipython",
    "version": 3
   },
   "file_extension": ".py",
   "mimetype": "text/x-python",
   "name": "python",
   "nbconvert_exporter": "python",
   "pygments_lexer": "ipython3",
   "version": "3.6.5"
  }
 },
 "nbformat": 4,
 "nbformat_minor": 2
}
